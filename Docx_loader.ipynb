{
 "cells": [
  {
   "cell_type": "markdown",
   "id": "73b8bcbd",
   "metadata": {},
   "source": [
    "# Various ways to load Docx file and read the content from it\n",
    "1. Using Document\n",
    "2. Using textract\n",
    "3. Using docx2txt\n",
    "4. Using Langchain loaders"
   ]
  },
  {
   "cell_type": "code",
   "execution_count": null,
   "id": "c0805099",
   "metadata": {},
   "outputs": [],
   "source": [
    "docx_file_path = \"demo.docx\""
   ]
  },
  {
   "cell_type": "code",
   "execution_count": 3,
   "id": "6d6873ff",
   "metadata": {},
   "outputs": [],
   "source": [
    "from docx import Document\n",
    "\n",
    "def extract_docx_metadata(file_path):\n",
    "    document = Document(file_path)\n",
    "\n",
    "    content = []\n",
    "    for para in document.paragraphs:\n",
    "        content.append(para.text)\n",
    "    \n",
    "    return {\n",
    "        \"content\": \"\\n\".join(content)\n",
    "    }\n"
   ]
  },
  {
   "cell_type": "code",
   "execution_count": 4,
   "id": "d5fcd3c0",
   "metadata": {},
   "outputs": [],
   "source": [
    "docx_data = extract_docx_metadata(docx_file_path)\n",
    "print(docx_data[\"content\"])"
   ]
  },
  {
   "cell_type": "code",
   "execution_count": null,
   "id": "954b5f0e",
   "metadata": {},
   "outputs": [],
   "source": []
  },
  {
   "cell_type": "code",
   "execution_count": null,
   "id": "0f1ab2a1",
   "metadata": {},
   "outputs": [],
   "source": []
  },
  {
   "cell_type": "code",
   "execution_count": 10,
   "id": "ba864c02",
   "metadata": {},
   "outputs": [],
   "source": [
    "import textract\n",
    "\n",
    "def extract_text_textract(file_path):\n",
    "    text = textract.process(file_path)\n",
    "    return text.decode('utf-8')\n",
    "\n",
    "# Example usage\n",
    "content = extract_text_textract(docx_file_path)\n",
    "print(content)\n"
   ]
  },
  {
   "cell_type": "code",
   "execution_count": null,
   "id": "772a1379",
   "metadata": {},
   "outputs": [],
   "source": []
  },
  {
   "cell_type": "code",
   "execution_count": null,
   "id": "068bd010",
   "metadata": {},
   "outputs": [],
   "source": []
  },
  {
   "cell_type": "code",
   "execution_count": 11,
   "id": "8e5da7cb",
   "metadata": {},
   "outputs": [],
   "source": [
    "import docx2txt\n",
    "\n",
    "def extract_text_docx2txt(file_path):\n",
    "    text = docx2txt.process(file_path)\n",
    "    return text\n",
    "\n",
    "\n",
    "content = extract_text_docx2txt(docx_file_path)\n",
    "print(content)\n"
   ]
  },
  {
   "cell_type": "code",
   "execution_count": null,
   "id": "64c5ad96",
   "metadata": {},
   "outputs": [],
   "source": []
  },
  {
   "cell_type": "code",
   "execution_count": null,
   "id": "7df0e980",
   "metadata": {},
   "outputs": [],
   "source": []
  },
  {
   "cell_type": "code",
   "execution_count": 12,
   "id": "0032ce83",
   "metadata": {},
   "outputs": [],
   "source": [
    "from langchain_community.document_loaders import Docx2txtLoader\n",
    "\n",
    "loader = Docx2txtLoader(docx_file_path)\n",
    "data = loader.load()\n",
    "print(data[0].page_content)"
   ]
  },
  {
   "cell_type": "code",
   "execution_count": null,
   "id": "637b2ca6",
   "metadata": {},
   "outputs": [],
   "source": []
  }
 ],
 "metadata": {
  "kernelspec": {
   "display_name": "Python 3 (ipykernel)",
   "language": "python",
   "name": "python3"
  },
  "language_info": {
   "codemirror_mode": {
    "name": "ipython",
    "version": 3
   },
   "file_extension": ".py",
   "mimetype": "text/x-python",
   "name": "python",
   "nbconvert_exporter": "python",
   "pygments_lexer": "ipython3",
   "version": "3.11.5"
  }
 },
 "nbformat": 4,
 "nbformat_minor": 5
}
